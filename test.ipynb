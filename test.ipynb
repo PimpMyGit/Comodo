{
 "cells": [],
 "metadata": {
  "kernelspec": {
   "display_name": "Python 3.9.1 64-bit",
   "language": "python",
   "name": "python3"
  },
  "language_info": {
   "codemirror_mode": {
    "name": "ipython",
    "version": 3
   },
   "file_extension": ".py",
   "mimetype": "text/x-python",
   "name": "python",
   "nbconvert_exporter": "python",
   "pygments_lexer": "ipython3",
   "version": "3.9.1"
  },
  "orig_nbformat": 4,
  "vscode": {
   "interpreter": {
    "hash": "cb0055362e5d071b949b104c5549697447f5f551efc61ded182add4ec6819199"
   }
  }
 },
 "nbformat": 4,
 "nbformat_minor": 2
}
