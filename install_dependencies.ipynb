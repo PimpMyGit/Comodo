{
 "cells": [
  {
   "cell_type": "code",
   "execution_count": null,
   "metadata": {},
   "outputs": [],
   "source": [
    "import shutil\n",
    "try:\n",
    "  shutil.rmtree('Comodo')\n",
    "except:\n",
    "  pass\n",
    "\n",
    "!git clone https://github.com/PimpMyGit/Comodo.git\n",
    "import sys\n",
    "sys.path.append('/content/comodo')"
   ]
  },
  {
   "cell_type": "code",
   "execution_count": null,
   "metadata": {},
   "outputs": [],
   "source": [
    "import re\n",
    "import os\n",
    "\n",
    "from os import listdir\n",
    "from os.path import isfile, join\n",
    "\n",
    "from pathlib import Path\n",
    "\n",
    "reg_import = r'(?:\\n|^)(?:import|from)\\s([A-Za-z0-9]+)'\n",
    "\n",
    "cwd = os.getcwd()\n",
    "comodo_dir = join(cwd, 'Comodo')\n",
    "\n",
    "pyfiles = [str(path) for path in Path(comodo_dir).resolve().rglob('*.py')]\n",
    "\n",
    "def read_file(filename):\n",
    "    with open(filename, encoding='utf') as f:\n",
    "            return f.read()\n",
    "\n",
    "def file_dependecies(filename):\n",
    "    str_content = read_file(filename)\n",
    "    return re.findall(reg_import, str_content)\n",
    "\n",
    "def all_dependecies(directory):\n",
    "    pyfiles = [str(path) for path in Path(directory).resolve().rglob('*.py')]\n",
    "    all_dependecies = []\n",
    "    _ = [all_dependecies.extend(file_dependecies(pyfile)) for pyfile in pyfiles]\n",
    "    return list(set(all_dependecies))\n",
    "\n",
    "def module_exists(module_name):\n",
    "  try:\n",
    "    try_import_str = 'import ' + module_name \n",
    "    exec(try_import_str)\n",
    "  except Exception as ex:\n",
    "    return False\n",
    "  return True"
   ]
  },
  {
   "cell_type": "code",
   "execution_count": null,
   "metadata": {},
   "outputs": [],
   "source": [
    "modules = all_dependecies(comodo_dir)\n",
    "modules"
   ]
  },
  {
   "cell_type": "code",
   "execution_count": null,
   "metadata": {},
   "outputs": [],
   "source": [
    "for module_name in list(set(modules)):\n",
    "  if not module_exists(module_name):\n",
    "    try:\n",
    "      install_str = 'pip install ' + module_name \n",
    "      os.system(install_str)\n",
    "    except Exception as ex:\n",
    "      print(ex)\n",
    "      print('failed with module', module_name)\n",
    "    \n",
    "    if module_exists(module_name):\n",
    "      print(module_name, 'installed succesfully')\n",
    "    else:\n",
    "      print('install failed with module', module_name)\n"
   ]
  }
 ],
 "metadata": {
  "language_info": {
   "name": "python"
  },
  "orig_nbformat": 4
 },
 "nbformat": 4,
 "nbformat_minor": 2
}
